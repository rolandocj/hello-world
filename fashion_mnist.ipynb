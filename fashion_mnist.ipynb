{
  "nbformat": 4,
  "nbformat_minor": 0,
  "metadata": {
    "colab": {
      "name": "fashion_mnist.ipynb",
      "provenance": [],
      "collapsed_sections": [],
      "include_colab_link": true
    },
    "kernelspec": {
      "name": "python3",
      "display_name": "Python 3"
    }
  },
  "cells": [
    {
      "cell_type": "markdown",
      "metadata": {
        "id": "view-in-github",
        "colab_type": "text"
      },
      "source": [
        "<a href=\"https://colab.research.google.com/github/rolandocj/hello-world/blob/master/fashion_mnist.ipynb\" target=\"_parent\"><img src=\"https://colab.research.google.com/assets/colab-badge.svg\" alt=\"Open In Colab\"/></a>"
      ]
    },
    {
      "cell_type": "code",
      "metadata": {
        "id": "sCttiMTKzZnZ",
        "colab_type": "code",
        "colab": {}
      },
      "source": [
        "import tensorflow as tf\n",
        "from tensorflow import keras"
      ],
      "execution_count": 0,
      "outputs": []
    },
    {
      "cell_type": "code",
      "metadata": {
        "id": "f_4kbfRXzbfl",
        "colab_type": "code",
        "outputId": "59aec4be-aecc-4427-d1c3-fe88bbc8b1bc",
        "colab": {
          "base_uri": "https://localhost:8080/",
          "height": 161
        }
      },
      "source": [
        "fashion_mnist = keras.datasets.fashion_mnist\n",
        "(X_train_full, y_train_full), (X_test, y_test) = fashion_mnist.load_data()\n",
        "#se crean conjuntos de validación y se normalizan\n",
        "X_valid, X_train = X_train_full[:5000] / 255.0, X_train_full[5000:] / 255.0\n",
        "y_valid, y_train = y_train_full[:5000], y_train_full[5000:]"
      ],
      "execution_count": 2,
      "outputs": [
        {
          "output_type": "stream",
          "text": [
            "Downloading data from https://storage.googleapis.com/tensorflow/tf-keras-datasets/train-labels-idx1-ubyte.gz\n",
            "32768/29515 [=================================] - 0s 0us/step\n",
            "Downloading data from https://storage.googleapis.com/tensorflow/tf-keras-datasets/train-images-idx3-ubyte.gz\n",
            "26427392/26421880 [==============================] - 0s 0us/step\n",
            "Downloading data from https://storage.googleapis.com/tensorflow/tf-keras-datasets/t10k-labels-idx1-ubyte.gz\n",
            "8192/5148 [===============================================] - 0s 0us/step\n",
            "Downloading data from https://storage.googleapis.com/tensorflow/tf-keras-datasets/t10k-images-idx3-ubyte.gz\n",
            "4423680/4422102 [==============================] - 0s 0us/step\n"
          ],
          "name": "stdout"
        }
      ]
    },
    {
      "cell_type": "code",
      "metadata": {
        "id": "3lUTpS2Kzj6x",
        "colab_type": "code",
        "outputId": "6d1290d0-4b77-4222-9ca0-4d210972679e",
        "colab": {
          "base_uri": "https://localhost:8080/",
          "height": 91
        }
      },
      "source": [
        "#definicion del modelo: se agregan capas, con sus funciones de activacion\n",
        "keras.backend.clear_session()\n",
        "model = keras.models.Sequential()\n",
        "model.add(keras.layers.Flatten(input_shape=[28, 28]))\n",
        "model.add(keras.layers.Dense(300, activation=\"relu\"))\n",
        "model.add(keras.layers.Dense(100, activation=\"relu\"))\n",
        "model.add(keras.layers.Dense(10, activation=\"softmax\"))"
      ],
      "execution_count": 3,
      "outputs": [
        {
          "output_type": "stream",
          "text": [
            "WARNING:tensorflow:From /usr/local/lib/python3.6/dist-packages/tensorflow/python/ops/init_ops.py:1251: calling VarianceScaling.__init__ (from tensorflow.python.ops.init_ops) with dtype is deprecated and will be removed in a future version.\n",
            "Instructions for updating:\n",
            "Call initializer instance with the dtype argument instead of passing it to the constructor\n"
          ],
          "name": "stdout"
        }
      ]
    },
    {
      "cell_type": "code",
      "metadata": {
        "id": "5gJvME7wzuAk",
        "colab_type": "code",
        "colab": {}
      },
      "source": [
        "#compilacion del modelo: requiere optimizador, funcion de costo y metricas a evaluar\n",
        "model.compile(loss=\"sparse_categorical_crossentropy\",\n",
        "optimizer=\"sgd\",\n",
        "metrics=[\"accuracy\"])"
      ],
      "execution_count": 0,
      "outputs": []
    },
    {
      "cell_type": "code",
      "metadata": {
        "id": "Q0QS796fzyZS",
        "colab_type": "code",
        "colab": {
          "base_uri": "https://localhost:8080/",
          "height": 1000
        },
        "outputId": "7e273a81-6bbf-4fa7-fad7-61ac795ed11a"
      },
      "source": [
        "history = model.fit(X_train, y_train, epochs=40, validation_data=(X_valid, y_valid))"
      ],
      "execution_count": 5,
      "outputs": [
        {
          "output_type": "stream",
          "text": [
            "Train on 55000 samples, validate on 5000 samples\n",
            "Epoch 1/40\n",
            "55000/55000 [==============================] - 6s 102us/sample - loss: 0.7222 - acc: 0.7637 - val_loss: 0.5724 - val_acc: 0.7886\n",
            "Epoch 2/40\n",
            "55000/55000 [==============================] - 5s 95us/sample - loss: 0.4882 - acc: 0.8296 - val_loss: 0.4910 - val_acc: 0.8366\n",
            "Epoch 3/40\n",
            "55000/55000 [==============================] - 5s 98us/sample - loss: 0.4421 - acc: 0.8449 - val_loss: 0.4210 - val_acc: 0.8564\n",
            "Epoch 4/40\n",
            "55000/55000 [==============================] - 5s 98us/sample - loss: 0.4150 - acc: 0.8549 - val_loss: 0.4088 - val_acc: 0.8600\n",
            "Epoch 5/40\n",
            "55000/55000 [==============================] - 5s 99us/sample - loss: 0.3946 - acc: 0.8616 - val_loss: 0.3877 - val_acc: 0.8680\n",
            "Epoch 6/40\n",
            "55000/55000 [==============================] - 5s 96us/sample - loss: 0.3791 - acc: 0.8655 - val_loss: 0.3924 - val_acc: 0.8674\n",
            "Epoch 7/40\n",
            "55000/55000 [==============================] - 5s 95us/sample - loss: 0.3667 - acc: 0.8708 - val_loss: 0.3754 - val_acc: 0.8706\n",
            "Epoch 8/40\n",
            "55000/55000 [==============================] - 5s 96us/sample - loss: 0.3545 - acc: 0.8741 - val_loss: 0.3625 - val_acc: 0.8740\n",
            "Epoch 9/40\n",
            "55000/55000 [==============================] - 5s 100us/sample - loss: 0.3439 - acc: 0.8791 - val_loss: 0.3484 - val_acc: 0.8794\n",
            "Epoch 10/40\n",
            "55000/55000 [==============================] - 6s 100us/sample - loss: 0.3354 - acc: 0.8809 - val_loss: 0.3439 - val_acc: 0.8786\n",
            "Epoch 11/40\n",
            "55000/55000 [==============================] - 6s 102us/sample - loss: 0.3264 - acc: 0.8836 - val_loss: 0.3411 - val_acc: 0.8786\n",
            "Epoch 12/40\n",
            "55000/55000 [==============================] - 5s 100us/sample - loss: 0.3190 - acc: 0.8859 - val_loss: 0.3438 - val_acc: 0.8786\n",
            "Epoch 13/40\n",
            "55000/55000 [==============================] - 6s 102us/sample - loss: 0.3112 - acc: 0.8891 - val_loss: 0.3322 - val_acc: 0.8836\n",
            "Epoch 14/40\n",
            "55000/55000 [==============================] - 5s 100us/sample - loss: 0.3033 - acc: 0.8919 - val_loss: 0.3304 - val_acc: 0.8820\n",
            "Epoch 15/40\n",
            "55000/55000 [==============================] - 6s 102us/sample - loss: 0.2986 - acc: 0.8928 - val_loss: 0.3609 - val_acc: 0.8708\n",
            "Epoch 16/40\n",
            "55000/55000 [==============================] - 6s 104us/sample - loss: 0.2919 - acc: 0.8952 - val_loss: 0.3187 - val_acc: 0.8878\n",
            "Epoch 17/40\n",
            "55000/55000 [==============================] - 6s 102us/sample - loss: 0.2867 - acc: 0.8969 - val_loss: 0.3310 - val_acc: 0.8848\n",
            "Epoch 18/40\n",
            "55000/55000 [==============================] - 6s 102us/sample - loss: 0.2809 - acc: 0.8996 - val_loss: 0.3233 - val_acc: 0.8812\n",
            "Epoch 19/40\n",
            "55000/55000 [==============================] - 6s 102us/sample - loss: 0.2755 - acc: 0.9013 - val_loss: 0.3585 - val_acc: 0.8704\n",
            "Epoch 20/40\n",
            "55000/55000 [==============================] - 6s 102us/sample - loss: 0.2697 - acc: 0.9037 - val_loss: 0.3055 - val_acc: 0.8924\n",
            "Epoch 21/40\n",
            "55000/55000 [==============================] - 6s 102us/sample - loss: 0.2655 - acc: 0.9044 - val_loss: 0.3405 - val_acc: 0.8774\n",
            "Epoch 22/40\n",
            "55000/55000 [==============================] - 6s 101us/sample - loss: 0.2615 - acc: 0.9060 - val_loss: 0.3075 - val_acc: 0.8920\n",
            "Epoch 23/40\n",
            "55000/55000 [==============================] - 5s 100us/sample - loss: 0.2568 - acc: 0.9084 - val_loss: 0.3102 - val_acc: 0.8884\n",
            "Epoch 24/40\n",
            "55000/55000 [==============================] - 5s 100us/sample - loss: 0.2524 - acc: 0.9103 - val_loss: 0.3062 - val_acc: 0.8902\n",
            "Epoch 25/40\n",
            "55000/55000 [==============================] - 5s 97us/sample - loss: 0.2479 - acc: 0.9116 - val_loss: 0.3017 - val_acc: 0.8928\n",
            "Epoch 26/40\n",
            "55000/55000 [==============================] - 5s 100us/sample - loss: 0.2441 - acc: 0.9117 - val_loss: 0.3014 - val_acc: 0.8954\n",
            "Epoch 27/40\n",
            "55000/55000 [==============================] - 6s 100us/sample - loss: 0.2394 - acc: 0.9151 - val_loss: 0.3016 - val_acc: 0.8924\n",
            "Epoch 28/40\n",
            "55000/55000 [==============================] - 5s 98us/sample - loss: 0.2363 - acc: 0.9152 - val_loss: 0.3038 - val_acc: 0.8882\n",
            "Epoch 29/40\n",
            "55000/55000 [==============================] - 5s 97us/sample - loss: 0.2322 - acc: 0.9163 - val_loss: 0.3086 - val_acc: 0.8918\n",
            "Epoch 30/40\n",
            "55000/55000 [==============================] - 5s 98us/sample - loss: 0.2286 - acc: 0.9193 - val_loss: 0.3114 - val_acc: 0.8920\n",
            "Epoch 31/40\n",
            "55000/55000 [==============================] - 5s 99us/sample - loss: 0.2248 - acc: 0.9197 - val_loss: 0.3044 - val_acc: 0.8904\n",
            "Epoch 32/40\n",
            "55000/55000 [==============================] - 5s 94us/sample - loss: 0.2206 - acc: 0.9218 - val_loss: 0.3013 - val_acc: 0.8990\n",
            "Epoch 33/40\n",
            "55000/55000 [==============================] - 5s 91us/sample - loss: 0.2174 - acc: 0.9233 - val_loss: 0.3450 - val_acc: 0.8766\n",
            "Epoch 34/40\n",
            "55000/55000 [==============================] - 5s 95us/sample - loss: 0.2151 - acc: 0.9231 - val_loss: 0.2968 - val_acc: 0.8898\n",
            "Epoch 35/40\n",
            "55000/55000 [==============================] - 5s 96us/sample - loss: 0.2109 - acc: 0.9239 - val_loss: 0.3189 - val_acc: 0.8876\n",
            "Epoch 36/40\n",
            "55000/55000 [==============================] - 5s 96us/sample - loss: 0.2079 - acc: 0.9252 - val_loss: 0.2949 - val_acc: 0.8990\n",
            "Epoch 37/40\n",
            "55000/55000 [==============================] - 5s 95us/sample - loss: 0.2041 - acc: 0.9269 - val_loss: 0.3065 - val_acc: 0.8906\n",
            "Epoch 38/40\n",
            "55000/55000 [==============================] - 5s 94us/sample - loss: 0.2017 - acc: 0.9278 - val_loss: 0.3067 - val_acc: 0.8942\n",
            "Epoch 39/40\n",
            "55000/55000 [==============================] - 5s 96us/sample - loss: 0.1981 - acc: 0.9295 - val_loss: 0.3093 - val_acc: 0.8930\n",
            "Epoch 40/40\n",
            "55000/55000 [==============================] - 5s 95us/sample - loss: 0.1947 - acc: 0.9302 - val_loss: 0.2989 - val_acc: 0.8950\n"
          ],
          "name": "stdout"
        }
      ]
    },
    {
      "cell_type": "code",
      "metadata": {
        "id": "QKkuGsLIz8JJ",
        "colab_type": "code",
        "outputId": "f5a1fbbd-d48e-4b57-948b-847506ed7277",
        "colab": {
          "base_uri": "https://localhost:8080/",
          "height": 143
        }
      },
      "source": [
        "history.params"
      ],
      "execution_count": 6,
      "outputs": [
        {
          "output_type": "execute_result",
          "data": {
            "text/plain": [
              "{'batch_size': 32,\n",
              " 'do_validation': True,\n",
              " 'epochs': 40,\n",
              " 'metrics': ['loss', 'acc', 'val_loss', 'val_acc'],\n",
              " 'samples': 55000,\n",
              " 'steps': None,\n",
              " 'verbose': 0}"
            ]
          },
          "metadata": {
            "tags": []
          },
          "execution_count": 6
        }
      ]
    },
    {
      "cell_type": "code",
      "metadata": {
        "id": "rDx_hm310AJg",
        "colab_type": "code",
        "colab": {
          "base_uri": "https://localhost:8080/",
          "height": 737
        },
        "outputId": "d974a72d-9527-49d0-a059-eb5e134de4e7"
      },
      "source": [
        "history.epoch"
      ],
      "execution_count": 7,
      "outputs": [
        {
          "output_type": "execute_result",
          "data": {
            "text/plain": [
              "[0,\n",
              " 1,\n",
              " 2,\n",
              " 3,\n",
              " 4,\n",
              " 5,\n",
              " 6,\n",
              " 7,\n",
              " 8,\n",
              " 9,\n",
              " 10,\n",
              " 11,\n",
              " 12,\n",
              " 13,\n",
              " 14,\n",
              " 15,\n",
              " 16,\n",
              " 17,\n",
              " 18,\n",
              " 19,\n",
              " 20,\n",
              " 21,\n",
              " 22,\n",
              " 23,\n",
              " 24,\n",
              " 25,\n",
              " 26,\n",
              " 27,\n",
              " 28,\n",
              " 29,\n",
              " 30,\n",
              " 31,\n",
              " 32,\n",
              " 33,\n",
              " 34,\n",
              " 35,\n",
              " 36,\n",
              " 37,\n",
              " 38,\n",
              " 39]"
            ]
          },
          "metadata": {
            "tags": []
          },
          "execution_count": 7
        }
      ]
    },
    {
      "cell_type": "code",
      "metadata": {
        "id": "RrlQMduL0FIx",
        "colab_type": "code",
        "colab": {
          "base_uri": "https://localhost:8080/",
          "height": 1000
        },
        "outputId": "2a1b9985-a916-4499-d34f-951f054b79d3"
      },
      "source": [
        "history.history"
      ],
      "execution_count": 8,
      "outputs": [
        {
          "output_type": "execute_result",
          "data": {
            "text/plain": [
              "{'acc': [0.76365453,\n",
              "  0.82963634,\n",
              "  0.8449091,\n",
              "  0.8549273,\n",
              "  0.86161816,\n",
              "  0.86554545,\n",
              "  0.8708,\n",
              "  0.8740909,\n",
              "  0.87912726,\n",
              "  0.8808909,\n",
              "  0.8836,\n",
              "  0.8859091,\n",
              "  0.88905454,\n",
              "  0.8919273,\n",
              "  0.8927636,\n",
              "  0.8952182,\n",
              "  0.8969273,\n",
              "  0.8996364,\n",
              "  0.9012909,\n",
              "  0.90367275,\n",
              "  0.90436363,\n",
              "  0.90596366,\n",
              "  0.9084,\n",
              "  0.9103091,\n",
              "  0.9116,\n",
              "  0.9116727,\n",
              "  0.91507274,\n",
              "  0.91516364,\n",
              "  0.9162545,\n",
              "  0.9193091,\n",
              "  0.9196909,\n",
              "  0.92176366,\n",
              "  0.9232727,\n",
              "  0.92309093,\n",
              "  0.92392725,\n",
              "  0.9251636,\n",
              "  0.92692727,\n",
              "  0.92776364,\n",
              "  0.9294909,\n",
              "  0.9301818],\n",
              " 'loss': [0.7222081437631087,\n",
              "  0.4882244153282859,\n",
              "  0.4421164199655706,\n",
              "  0.4150105364582755,\n",
              "  0.39462207229787655,\n",
              "  0.3791052909244191,\n",
              "  0.36668511449857194,\n",
              "  0.3544778652754697,\n",
              "  0.34390391127196224,\n",
              "  0.3354132461157712,\n",
              "  0.32636823506355284,\n",
              "  0.31899478408856824,\n",
              "  0.3112256101023067,\n",
              "  0.30325401151180265,\n",
              "  0.2985534891345284,\n",
              "  0.29194570183753965,\n",
              "  0.2867438265995546,\n",
              "  0.28089791024814953,\n",
              "  0.27551969482898714,\n",
              "  0.2696556229504672,\n",
              "  0.2654955743323673,\n",
              "  0.26154365648573097,\n",
              "  0.2568286306251179,\n",
              "  0.2524438477093523,\n",
              "  0.24794275338974867,\n",
              "  0.24405001010352914,\n",
              "  0.23938379791433162,\n",
              "  0.2363290187618949,\n",
              "  0.23218844903165645,\n",
              "  0.22858893958438525,\n",
              "  0.22480090917565607,\n",
              "  0.2206035483040593,\n",
              "  0.2173720183914358,\n",
              "  0.2150936014218764,\n",
              "  0.2108508969783783,\n",
              "  0.20794319617423143,\n",
              "  0.2041066576134075,\n",
              "  0.20171062290018255,\n",
              "  0.19811959006786348,\n",
              "  0.19471791818467055],\n",
              " 'val_acc': [0.7886,\n",
              "  0.8366,\n",
              "  0.8564,\n",
              "  0.86,\n",
              "  0.868,\n",
              "  0.8674,\n",
              "  0.8706,\n",
              "  0.874,\n",
              "  0.8794,\n",
              "  0.8786,\n",
              "  0.8786,\n",
              "  0.8786,\n",
              "  0.8836,\n",
              "  0.882,\n",
              "  0.8708,\n",
              "  0.8878,\n",
              "  0.8848,\n",
              "  0.8812,\n",
              "  0.8704,\n",
              "  0.8924,\n",
              "  0.8774,\n",
              "  0.892,\n",
              "  0.8884,\n",
              "  0.8902,\n",
              "  0.8928,\n",
              "  0.8954,\n",
              "  0.8924,\n",
              "  0.8882,\n",
              "  0.8918,\n",
              "  0.892,\n",
              "  0.8904,\n",
              "  0.899,\n",
              "  0.8766,\n",
              "  0.8898,\n",
              "  0.8876,\n",
              "  0.899,\n",
              "  0.8906,\n",
              "  0.8942,\n",
              "  0.893,\n",
              "  0.895],\n",
              " 'val_loss': [0.5723721985816955,\n",
              "  0.49099801917076114,\n",
              "  0.42098360629081727,\n",
              "  0.40875971975326536,\n",
              "  0.3876549008131027,\n",
              "  0.3923591854095459,\n",
              "  0.3753939573287964,\n",
              "  0.362525223171711,\n",
              "  0.34838598124980924,\n",
              "  0.3439276204109192,\n",
              "  0.34107288537025454,\n",
              "  0.3437573414802551,\n",
              "  0.33224927740097043,\n",
              "  0.3304453685939312,\n",
              "  0.36092146635055544,\n",
              "  0.3186969098567963,\n",
              "  0.3310231741070747,\n",
              "  0.3233128184080124,\n",
              "  0.358517906832695,\n",
              "  0.30551503899097443,\n",
              "  0.34050270171165464,\n",
              "  0.30754704902172086,\n",
              "  0.3101726831406355,\n",
              "  0.3061906388282776,\n",
              "  0.3017235989034176,\n",
              "  0.30139404588937757,\n",
              "  0.30157751078605655,\n",
              "  0.3038146600008011,\n",
              "  0.3085605082511902,\n",
              "  0.3114229557991028,\n",
              "  0.3044070480823517,\n",
              "  0.30125014710435644,\n",
              "  0.3449580770969391,\n",
              "  0.29683610364198687,\n",
              "  0.31888137983083725,\n",
              "  0.2949351870059967,\n",
              "  0.3064727125406265,\n",
              "  0.306725208735466,\n",
              "  0.3093311863303185,\n",
              "  0.29894286189079283]}"
            ]
          },
          "metadata": {
            "tags": []
          },
          "execution_count": 8
        }
      ]
    },
    {
      "cell_type": "code",
      "metadata": {
        "id": "AlHspaqB0TF4",
        "colab_type": "code",
        "outputId": "9bdacb5d-22b6-4417-cb41-b7371d4bf36f",
        "colab": {
          "base_uri": "https://localhost:8080/",
          "height": 324
        }
      },
      "source": [
        "import pandas as pd\n",
        "import matplotlib.pyplot as plt\n",
        "pd.DataFrame(history.history).plot(figsize=(8, 5))\n",
        "plt.grid(True)\n",
        "plt.gca().set_ylim(0, 1) # set the vertical range to [0-1]\n",
        "plt.show()"
      ],
      "execution_count": 9,
      "outputs": [
        {
          "output_type": "display_data",
          "data": {
            "image/png": "[encoded data removed]",
            "text/plain": [
              "<Figure size 576x360 with 1 Axes>"
            ]
          },
          "metadata": {
            "tags": []
          }
        }
      ]
    },
    {
      "cell_type": "code",
      "metadata": {
        "id": "icRY6qY91109",
        "colab_type": "code",
        "outputId": "ae89d4e9-8e7b-4218-9c80-728ac7b8fef4",
        "colab": {
          "base_uri": "https://localhost:8080/",
          "height": 53
        }
      },
      "source": [
        "#evaluacion del modelo\n",
        "model.evaluate(X_test, y_test)"
      ],
      "execution_count": 10,
      "outputs": [
        {
          "output_type": "stream",
          "text": [
            "10000/10000 [==============================] - 0s 43us/sample - loss: 68.7232 - acc: 0.8499\n"
          ],
          "name": "stdout"
        },
        {
          "output_type": "execute_result",
          "data": {
            "text/plain": [
              "[68.72315517244338, 0.8499]"
            ]
          },
          "metadata": {
            "tags": []
          },
          "execution_count": 10
        }
      ]
    },
    {
      "cell_type": "code",
      "metadata": {
        "id": "kCzA2AP2w8uV",
        "colab_type": "code",
        "colab": {
          "base_uri": "https://localhost:8080/",
          "height": 71
        },
        "outputId": "1d55b420-ce3b-4dd2-f140-406cf846b706"
      },
      "source": [
        "#prediccion\n",
        "X_new = X_test[:3]\n",
        "y_proba = model.predict(X_new)\n",
        "y_proba.round(2)"
      ],
      "execution_count": 11,
      "outputs": [
        {
          "output_type": "execute_result",
          "data": {
            "text/plain": [
              "array([[0., 0., 0., 0., 0., 0., 0., 0., 0., 1.],\n",
              "       [0., 0., 1., 0., 0., 0., 0., 0., 0., 0.],\n",
              "       [0., 1., 0., 0., 0., 0., 0., 0., 0., 0.]], dtype=float32)"
            ]
          },
          "metadata": {
            "tags": []
          },
          "execution_count": 11
        }
      ]
    },
    {
      "cell_type": "code",
      "metadata": {
        "id": "hK86HaWFyL75",
        "colab_type": "code",
        "colab": {}
      },
      "source": [
        ""
      ],
      "execution_count": 0,
      "outputs": []
    },
    {
      "cell_type": "code",
      "metadata": {
        "id": "dsBJKnvHxW7b",
        "colab_type": "code",
        "colab": {
          "base_uri": "https://localhost:8080/",
          "height": 35
        },
        "outputId": "5a8022f2-059c-4dca-cd53-62784013ad8e"
      },
      "source": [
        "y_pred = model.predict_classes(X_new)\n",
        "y_pred"
      ],
      "execution_count": 12,
      "outputs": [
        {
          "output_type": "execute_result",
          "data": {
            "text/plain": [
              "array([9, 2, 1])"
            ]
          },
          "metadata": {
            "tags": []
          },
          "execution_count": 12
        }
      ]
    },
    {
      "cell_type": "code",
      "metadata": {
        "id": "cOGkrnJUxas0",
        "colab_type": "code",
        "colab": {
          "base_uri": "https://localhost:8080/",
          "height": 35
        },
        "outputId": "51ca2a49-fe39-4957-9d77-fc2d32464504"
      },
      "source": [
        "y_new = y_test[:3]\n",
        "y_new"
      ],
      "execution_count": 13,
      "outputs": [
        {
          "output_type": "execute_result",
          "data": {
            "text/plain": [
              "array([9, 2, 1], dtype=uint8)"
            ]
          },
          "metadata": {
            "tags": []
          },
          "execution_count": 13
        }
      ]
    },
    {
      "cell_type": "code",
      "metadata": {
        "id": "vUqwCtBoxg82",
        "colab_type": "code",
        "colab": {}
      },
      "source": [
        ""
      ],
      "execution_count": 0,
      "outputs": []
    }
  ]
}